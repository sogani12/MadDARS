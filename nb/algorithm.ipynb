{
 "cells": [
  {
   "cell_type": "code",
   "execution_count": 1,
   "id": "be8407b4-6698-4eaa-b1aa-cd585a8a2302",
   "metadata": {},
   "outputs": [],
   "source": [
    "import psycopg2\n",
    "conn = psycopg2.connect(\n",
    "    dbname=\"madmajors\",\n",
    "    user=\"namans\",\n",
    "    password=\"aRAY_YAR12!\",\n",
    "    host=\"db\",\n",
    "    port=\"5432\"\n",
    ")\n",
    "cursor = conn.cursor()"
   ]
  },
  {
   "cell_type": "code",
   "execution_count": 2,
   "id": "690459bb-413b-414b-afb7-1188cd8ac827",
   "metadata": {},
   "outputs": [],
   "source": [
    "course_codes = [\n",
    "    \"ASIALANG103\",\n",
    "    \"COMP SCI200\",\n",
    "    \"MATH 234\",\n",
    "    \"PHYSICS 201\",\n",
    "    \"ASIALANG104\",\n",
    "    \"COMP SCI300\",\n",
    "    \"MATH 240\",\n",
    "    \"MATH 340\",\n",
    "    \"PHYSICS 202\",\n",
    "    \"COMP SCI252\",\n",
    "    \"COMP SCI320\",\n",
    "    \"COMP SCI400\",\n",
    "    \"ASIALANG203\",\n",
    "    \"COMP SCI354\",\n",
    "    \"COMP SCI577\",\n",
    "    \"GENETICS133\",\n",
    "    \"STAT 240\",\n",
    "    \"ASIALANG204\",\n",
    "    \"COMP SCI537\",\n",
    "    \"COMP SCI540\",\n",
    "    \"MUSIC 151\",\n",
    "    \"STAT 340\",\n",
    "    \"ANTHRO 104\",\n",
    "    \"ASIAN 358\",\n",
    "    \"COMP SCI544\",\n",
    "    \"COMP SCI564\"\n",
    "]\n"
   ]
  },
  {
   "cell_type": "code",
   "execution_count": 5,
   "id": "fa0f3067-026f-412d-9752-7099f900d22e",
   "metadata": {},
   "outputs": [
    {
     "name": "stdout",
     "output_type": "stream",
     "text": [
      "[('ASIALANG', '103'), ('COMPSCI', '200'), ('MATH', '234'), ('PHYSICS', '201'), ('ASIALANG', '104'), ('COMPSCI', '300'), ('MATH', '240'), ('MATH', '340'), ('PHYSICS', '202'), ('COMPSCI', '252'), ('COMPSCI', '320'), ('COMPSCI', '400'), ('ASIALANG', '203'), ('COMPSCI', '354'), ('COMPSCI', '577'), ('GENETICS', '133'), ('STAT', '240'), ('ASIALANG', '204'), ('COMPSCI', '537'), ('COMPSCI', '540'), ('MUSIC', '151'), ('STAT', '340'), ('ANTHRO', '104'), ('ASIAN', '358'), ('COMPSCI', '544'), ('COMPSCI', '564')]\n"
     ]
    }
   ],
   "source": [
    "compl_course_tuples = [(code.replace(\" \", \"\")[:-3], code.replace(\" \", \"\")[-3:]) for code in course_codes]\n",
    "\n",
    "print(compl_course_tuples)"
   ]
  },
  {
   "cell_type": "code",
   "execution_count": 12,
   "id": "6daaf75d-6c96-4961-8d5f-496837e9d955",
   "metadata": {},
   "outputs": [
    {
     "name": "stdout",
     "output_type": "stream",
     "text": [
      "{1: [('COMPSCI', '407'), ('COMPSCI', '412'), ('COMPSCI', '425'), ('COMPSCI', '435'), ('COMPSCI', '471'), ('COMPSCI', '475'), ('COMPSCI', '506'), ('COMPSCI', '513'), ('COMPSCI', '514'), ('COMPSCI', '518'), ('COMPSCI', '520'), ('COMPSCI', '524'), ('COMPSCI', '525'), ('COMPSCI', '526'), ('COMPSCI', '532'), ('COMPSCI', '533'), ('COMPSCI', '534'), ('COMPSCI', '536'), ('COMPSCI', '537'), ('COMPSCI', '538'), ('COMPSCI', '539'), ('COMPSCI', '540'), ('COMPSCI', '541'), ('COMPSCI', '542'), ('COMPSCI', '544'), ('COMPSCI', '552'), ('COMPSCI', '558'), ('COMPSCI', '559'), ('COMPSCI', '561'), ('ORECE', '561'), ('COMPSCI', '565'), ('COMPSCI', '566'), ('COMPSCI', '570'), ('COMPSCI', '571'), ('COMPSCI', '576'), ('COMPSCI', '577'), ('COMPSCI', '579'), ('COMPSCI', '620'), ('COMPSCI', '635'), ('COMPSCI', '639'), ('COMPSCI', '620'), ('COMPSCI', '640'), ('COMPSCI', '642')]}\n"
     ]
    }
   ],
   "source": [
    "import re\n",
    "\n",
    "# Input string\n",
    "input_str = \"\"\"\n",
    "SELECT FROM: COMP SCI 407,412,425,435,471,475,506,513,\n",
    "COMP SCI 514,518,520,524,525,526,532,533,534,536,\n",
    "COMP SCI 537,538,539,540,541,542,544,552,558,559,561\n",
    "OR E C E 561 COMP SCI 565,566(SP25 OR AFTER),567,\n",
    "COMP SCI 570,571,576,577,579,620,635,639,620,640,642\n",
    "\"\"\"\n",
    "\n",
    "# Initialize a list to hold course tuples\n",
    "course_tuples = []\n",
    "\n",
    "# Find all occurrences of a course prefix followed by numbers\n",
    "matches = re.findall(r\"([A-Z ]+?)(\\d{3}(?:,\\d{3})*)\", input_str)\n",
    "\n",
    "for name, numbers in matches:\n",
    "    # Clean up the course name\n",
    "    name = name.strip().replace(\" \", \"\")\n",
    "    \n",
    "    # Split numbers by commas and create tuples\n",
    "    course_numbers = numbers.split(',')\n",
    "    for number in course_numbers:\n",
    "        course_tuples.append((name, number))\n",
    "\n",
    "dict_course_tuples = {}\n",
    "dict_course_tuples[1] = course_tuples\n",
    "print(dict_course_tuples)"
   ]
  },
  {
   "cell_type": "code",
   "execution_count": 14,
   "id": "6910cac4-a811-47e4-ac0a-5ea3fdb70b0e",
   "metadata": {},
   "outputs": [
    {
     "data": {
      "text/plain": [
       "319"
      ]
     },
     "execution_count": 14,
     "metadata": {},
     "output_type": "execute_result"
    }
   ],
   "source": [
    "credits_left = 18\n",
    "semesters_left = 3\n",
    "max_creds_sem = 18\n",
    "max_creds_take = semesters_left * max_creds_sem\n",
    "cursor.execute(\"select count(*) from degree\")\n",
    "num_majors = cursor.fetchone()[0]\n",
    "num_majors"
   ]
  },
  {
   "cell_type": "code",
   "execution_count": 16,
   "id": "5000fd11-d9ec-4c8f-8470-6e382026a14c",
   "metadata": {},
   "outputs": [
    {
     "name": "stdout",
     "output_type": "stream",
     "text": [
      "(c.course_name LIKE '%ASIALANG103' OR c.course_name LIKE '%ASIALANG/%103') OR (c.course_name LIKE '%COMPSCI200' OR c.course_name LIKE '%COMPSCI/%200') OR (c.course_name LIKE '%MATH234' OR c.course_name LIKE '%MATH/%234') OR (c.course_name LIKE '%PHYSICS201' OR c.course_name LIKE '%PHYSICS/%201') OR (c.course_name LIKE '%ASIALANG104' OR c.course_name LIKE '%ASIALANG/%104') OR (c.course_name LIKE '%COMPSCI300' OR c.course_name LIKE '%COMPSCI/%300') OR (c.course_name LIKE '%MATH240' OR c.course_name LIKE '%MATH/%240') OR (c.course_name LIKE '%MATH340' OR c.course_name LIKE '%MATH/%340') OR (c.course_name LIKE '%PHYSICS202' OR c.course_name LIKE '%PHYSICS/%202') OR (c.course_name LIKE '%COMPSCI252' OR c.course_name LIKE '%COMPSCI/%252') OR (c.course_name LIKE '%COMPSCI320' OR c.course_name LIKE '%COMPSCI/%320') OR (c.course_name LIKE '%COMPSCI400' OR c.course_name LIKE '%COMPSCI/%400') OR (c.course_name LIKE '%ASIALANG203' OR c.course_name LIKE '%ASIALANG/%203') OR (c.course_name LIKE '%COMPSCI354' OR c.course_name LIKE '%COMPSCI/%354') OR (c.course_name LIKE '%COMPSCI577' OR c.course_name LIKE '%COMPSCI/%577') OR (c.course_name LIKE '%GENETICS133' OR c.course_name LIKE '%GENETICS/%133') OR (c.course_name LIKE '%STAT240' OR c.course_name LIKE '%STAT/%240') OR (c.course_name LIKE '%ASIALANG204' OR c.course_name LIKE '%ASIALANG/%204') OR (c.course_name LIKE '%COMPSCI537' OR c.course_name LIKE '%COMPSCI/%537') OR (c.course_name LIKE '%COMPSCI540' OR c.course_name LIKE '%COMPSCI/%540') OR (c.course_name LIKE '%MUSIC151' OR c.course_name LIKE '%MUSIC/%151') OR (c.course_name LIKE '%STAT340' OR c.course_name LIKE '%STAT/%340') OR (c.course_name LIKE '%ANTHRO104' OR c.course_name LIKE '%ANTHRO/%104') OR (c.course_name LIKE '%ASIAN358' OR c.course_name LIKE '%ASIAN/%358') OR (c.course_name LIKE '%COMPSCI544' OR c.course_name LIKE '%COMPSCI/%544') OR (c.course_name LIKE '%COMPSCI564' OR c.course_name LIKE '%COMPSCI/%564')\n"
     ]
    }
   ],
   "source": [
    "where_clauses = \" OR \".join([\n",
    "    f\"(c.course_name LIKE '%{dept}{number}' OR c.course_name LIKE '%{dept}/%{number}')\"\n",
    "    for dept, number in compl_course_tuples\n",
    "])\n",
    "print(where_clauses)"
   ]
  },
  {
   "cell_type": "code",
   "execution_count": 20,
   "id": "76c24d12-64ca-4a62-b0c2-21f6767d4984",
   "metadata": {},
   "outputs": [
    {
     "name": "stdout",
     "output_type": "stream",
     "text": [
      "Degree name: Computer Sciences, BA, Course Count: 13\n",
      "Degree name: Computer Sciences, BS, Course Count: 13\n",
      "Degree name: Computer Sciences, Certificate, Course Count: 11\n",
      "Degree name: Data Science, BA, Course Count: 10\n",
      "Degree name: Data Science, BS, Course Count: 10\n",
      "Degree name: Statistics, BS, Course Count: 8\n",
      "Degree name: Statistics, BA, Course Count: 8\n",
      "Degree name: Computer Engineering, BS, Course Count: 8\n",
      "Degree name: Industrial Engineering, BS, Course Count: 8\n",
      "Degree name: Engineering Physics, BS, Course Count: 8\n",
      "Degree name: Biomedical Engineering, BS, Course Count: 7\n",
      "Degree name: Atmospheric and Oceanic Sciences, BA, Course Count: 7\n",
      "Degree name: Atmospheric and Oceanic Sciences, BS, Course Count: 7\n",
      "Degree name: Molecular and Cell Biology, BS, Course Count: 7\n",
      "Degree name: Molecular and Cell Biology, BA, Course Count: 7\n",
      "Degree name: Materials Science and Engineering, BS, Course Count: 7\n",
      "Degree name: Information Science, BS, Course Count: 7\n",
      "Degree name: Information Science, BA, Course Count: 7\n",
      "Degree name: Business: International Business, BBA, Course Count: 6\n",
      "Degree name: Mechanical Engineering, BS, Course Count: 6\n",
      "Degree name: Electrical Engineering, BS, Course Count: 5\n",
      "Degree name: Nuclear Engineering, BS, Course Count: 5\n",
      "Degree name: Japanese Professional Communication, Certificate, Course Count: 5\n",
      "Degree name: Japanese, BS, Course Count: 5\n",
      "Degree name: Japanese, BA, Course Count: 5\n",
      "Degree name: Astronomy–Physics, BA, Course Count: 5\n",
      "Degree name: Engineering Mechanics, BS, Course Count: 5\n",
      "Degree name: Astronomy–Physics, BS, Course Count: 5\n",
      "Degree name: East Asian Studies, Certificate, Course Count: 5\n",
      "Degree name: Geology and Geophysics, BA, Course Count: 4\n",
      "Degree name: Global Cultures, Languages, and Education, Certificate, Course Count: 4\n",
      "Degree name: Applied Mathematics, Engineering, and Physics, BS AMEP, Course Count: 4\n",
      "Degree name: Geology and Geophysics, BS, Course Count: 4\n",
      "Degree name: Physics, BS, Course Count: 4\n",
      "Degree name: Physics, BA, Course Count: 4\n",
      "Degree name: Data Science, Certificate, Course Count: 4\n",
      "Degree name: Chemistry, BS, Course Count: 3\n",
      "Degree name: Technical Communication, Certificate, Course Count: 3\n",
      "Degree name: Biology, BS (CALS), Course Count: 3\n",
      "Degree name: Biology, BA (L&S), Course Count: 3\n",
      "Degree name: Asian Languages and Cultures, BA, Course Count: 3\n",
      "Degree name: Business: Actuarial Science, BBA, Course Count: 3\n",
      "Degree name: Asian Languages and Cultures, BS, Course Count: 3\n",
      "Degree name: Biology, BS (L&S), Course Count: 3\n",
      "Degree name: Genetics and Genomics, BS, Course Count: 3\n",
      "Degree name: Pharmacology and Toxicology, BS, Course Count: 3\n",
      "Degree name: Chemical Engineering, BS, Course Count: 3\n",
      "Degree name: Chemistry, BA, Course Count: 3\n",
      "Degree name: Zoology, BS, Course Count: 2\n",
      "Degree name: Biochemistry, BA (L&S), Course Count: 2\n",
      "Degree name: Biochemistry, BS (CALS), Course Count: 2\n",
      "Degree name: Biochemistry, BS (L&S), Course Count: 2\n",
      "Degree name: Biological Systems Engineering, BS, Course Count: 2\n",
      "Degree name: Botany, BA, Course Count: 2\n",
      "Degree name: Botany, BS, Course Count: 2\n",
      "Degree name: Civil Engineering, BS, Course Count: 2\n",
      "Degree name: Economic Analytics, Certificate, Course Count: 2\n",
      "Degree name: Entomology, BS, Course Count: 2\n",
      "Degree name: Environmental Engineering, BS, Course Count: 2\n",
      "Degree name: Environmental Sciences, BA (L&S), Course Count: 2\n",
      "Degree name: Environmental Sciences, BS (CALS), Course Count: 2\n",
      "Degree name: Environmental Sciences, BS (L&S), Course Count: 2\n",
      "Degree name: Game Design, Certificate, Course Count: 2\n",
      "Degree name: Geological Engineering, BS, Course Count: 2\n",
      "Degree name: Mathematics, BA, Course Count: 2\n",
      "Degree name: Mathematics, BS, Course Count: 2\n",
      "Degree name: Microbiology, BA (L&S), Course Count: 2\n",
      "Degree name: Microbiology, BS (CALS), Course Count: 2\n",
      "Degree name: Microbiology, BS (L&S), Course Count: 2\n",
      "Degree name: Neurobiology, BA, Course Count: 2\n",
      "Degree name: Neurobiology, BS, Course Count: 2\n",
      "Degree name: Nutritional Sciences, BS, Course Count: 2\n",
      "Degree name: Physics, Certificate, Course Count: 2\n",
      "Degree name: Plant Pathology, BS, Course Count: 2\n",
      "Degree name: Statistics, Certificate, Course Count: 2\n",
      "Degree name: Zoology, BA, Course Count: 2\n",
      "Degree name: Conservation Biology, BS, Course Count: 1\n",
      "Degree name: Conservation Biology, BA, Course Count: 1\n",
      "Degree name: Communication Sciences and Disorders, BSE, Course Count: 1\n",
      "Degree name: Integrated Studies in Science, Engineering, and Society, Certificate, Course Count: 1\n",
      "Degree name: International Business, Certificate, Course Count: 1\n",
      "Degree name: Business: Supply Chain Management, BBA, Course Count: 1\n",
      "Degree name: Business: Risk Management and Insurance, BBA, Course Count: 1\n",
      "Degree name: Business: Real Estate and Urban Land Economics, BBA, Course Count: 1\n",
      "Degree name: Kinesiology, BS, Course Count: 1\n",
      "Degree name: Linguistics, BA, Course Count: 1\n",
      "Degree name: Linguistics, BS, Course Count: 1\n",
      "Degree name: Business: Operations and Technology Management, BBA, Course Count: 1\n",
      "Degree name: Business: Finance, Investment, and Banking, BBA, Course Count: 1\n",
      "Degree name: Business: Entrepreneurship, BBA, Course Count: 1\n",
      "Degree name: Mathematics, Certificate, Course Count: 1\n",
      "Degree name: Business: Marketing, BBA, Course Count: 1\n",
      "Degree name: Business: Accounting, BBA, Course Count: 1\n",
      "Degree name: Anthropology, BS, Course Count: 1\n",
      "Degree name: Economics, BS, Course Count: 1\n",
      "Degree name: Economics, BA, Course Count: 1\n",
      "Degree name: Digital Studies, Certificate, Course Count: 1\n",
      "Degree name: Wildlife Ecology, BS, Course Count: 1\n",
      "Degree name: Business: Management, BBA, Course Count: 1\n",
      "Degree name: Business: Information Systems, BBA, Course Count: 1\n",
      "Degree name: Arts and Teaching, Certificate, Course Count: 1\n",
      "Degree name: Art, BFA, Course Count: 1\n",
      "Degree name: Fermented Foods and Beverages, Certificate, Course Count: 1\n",
      "Degree name: Food Science, BS, Course Count: 1\n",
      "Degree name: Business: Human Resource Management, BBA, Course Count: 1\n",
      "Degree name: Digital Media Analytics, Certificate, Course Count: 1\n",
      "Degree name: Anthropology, BA, Course Count: 1\n",
      "Degree name: Design Strategy, Certificate, Course Count: 1\n",
      "Degree name: Dance, BS, Course Count: 1\n",
      "Degree name: Dance, BFA, Course Count: 1\n",
      "Degree name: Global Health, BS, Course Count: 1\n",
      "Degree name: Health and the Humanities, Certificate, Course Count: 1\n",
      "Degree name: Horticulture, BS, Course Count: 1\n"
     ]
    }
   ],
   "source": [
    "query = f\"\"\"\n",
    "    SELECT d.degree_name,\n",
    "           COUNT(*) AS course_count\n",
    "    FROM degree_course dc\n",
    "    JOIN course c ON dc.course_id = c.course_id\n",
    "    JOIN degree d ON dc.degree_id = d.degree_id\n",
    "    WHERE {where_clauses}\n",
    "    GROUP BY d.degree_name\n",
    "    ORDER BY course_count DESC\n",
    "\"\"\"\n",
    "cursor.execute(query)\n",
    "rows = cursor.fetchall()\n",
    "\n",
    "\n",
    "# Print results\n",
    "for row in rows:\n",
    "    print(f\"Degree name: {row[0]}, Course Count: {row[1]}\")"
   ]
  },
  {
   "cell_type": "code",
   "execution_count": 21,
   "id": "e50772d9-6a6b-409a-9742-3d4c87e177b9",
   "metadata": {},
   "outputs": [],
   "source": [
    "conn.commit()\n",
    "cursor.close()\n",
    "conn.close()"
   ]
  },
  {
   "cell_type": "code",
   "execution_count": null,
   "id": "ced4cca6-be3a-48ce-a937-ef144629c67e",
   "metadata": {},
   "outputs": [],
   "source": []
  }
 ],
 "metadata": {
  "kernelspec": {
   "display_name": "Python 3 (ipykernel)",
   "language": "python",
   "name": "python3"
  },
  "language_info": {
   "codemirror_mode": {
    "name": "ipython",
    "version": 3
   },
   "file_extension": ".py",
   "mimetype": "text/x-python",
   "name": "python",
   "nbconvert_exporter": "python",
   "pygments_lexer": "ipython3",
   "version": "3.11.6"
  }
 },
 "nbformat": 4,
 "nbformat_minor": 5
}
