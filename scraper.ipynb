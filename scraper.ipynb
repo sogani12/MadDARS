{
 "cells": [
  {
   "cell_type": "code",
   "execution_count": 2,
   "id": "9816d01f-ff7f-4be2-8652-068dd6475736",
   "metadata": {},
   "outputs": [],
   "source": [
    "import requests\n",
    "from bs4 import BeautifulSoup\n",
    "import re\n",
    "import pandas as pd\n",
    "from io import StringIO"
   ]
  },
  {
   "cell_type": "code",
   "execution_count": 98,
   "id": "af71e60b-4970-4192-bceb-f6ded74ee24e",
   "metadata": {},
   "outputs": [],
   "source": [
    "r = requests.get(\"https://guide.wisc.edu/undergraduate/agricultural-life-sciences/genetics/genetics-genomics-bs/#text\")"
   ]
  },
  {
   "cell_type": "code",
   "execution_count": 99,
   "id": "397b635b-8de9-4fa7-811f-ab8b0e1c4e24",
   "metadata": {},
   "outputs": [
    {
     "data": {
      "text/plain": [
       "200"
      ]
     },
     "execution_count": 99,
     "metadata": {},
     "output_type": "execute_result"
    }
   ],
   "source": [
    "r.status_code"
   ]
  },
  {
   "cell_type": "code",
   "execution_count": 100,
   "id": "62ff2060-54eb-4158-93a0-9985c859cbed",
   "metadata": {},
   "outputs": [],
   "source": [
    "soup = BeautifulSoup(r.text, 'html.parser')"
   ]
  },
  {
   "cell_type": "code",
   "execution_count": 101,
   "id": "f2f92bb7-a531-4d8d-b5f8-106f584e0b1e",
   "metadata": {},
   "outputs": [],
   "source": [
    "# from selenium.webdriver.chrome.options import Options\n",
    "# from selenium import webdriver\n",
    "\n",
    "# options = Options()\n",
    "# # Run in headless mode (info: https://www.browserstack.com/guide/what-is-headless-browser-testing)\n",
    "# options.add_argument(\"--headless=new\")\n",
    "# driver = webdriver.Chrome(options=options)\n"
   ]
  },
  {
   "cell_type": "code",
   "execution_count": 102,
   "id": "68631dc4-b8ad-4fec-b607-65be6a9d3dbc",
   "metadata": {},
   "outputs": [],
   "source": [
    "# driver.get(\"https://guide.wisc.edu/undergraduate/agricultural-life-sciences/genetics/genetics-genomics-bs/#text\")"
   ]
  },
  {
   "cell_type": "code",
   "execution_count": 103,
   "id": "d6568320-971a-4f07-aa91-bfee9d9e7712",
   "metadata": {},
   "outputs": [],
   "source": [
    "# driver.close()"
   ]
  },
  {
   "cell_type": "code",
   "execution_count": 104,
   "id": "e28f470a-1311-4ff4-9325-d729fcab8104",
   "metadata": {},
   "outputs": [
    {
     "data": {
      "text/plain": [
       "149"
      ]
     },
     "execution_count": 104,
     "metadata": {},
     "output_type": "execute_result"
    }
   ],
   "source": [
    "len(soup.find_all(\"a\", {\"class\":\"bubblelink code\"}))"
   ]
  },
  {
   "cell_type": "code",
   "execution_count": 105,
   "id": "e13729cb-2622-445c-97fb-dbb838ed872e",
   "metadata": {},
   "outputs": [],
   "source": [
    "# (soup.find_all(\"a\", {\"class\":\"bubblelink code\"}))"
   ]
  },
  {
   "cell_type": "code",
   "execution_count": 106,
   "id": "5e444bd3-f8b4-43b0-aa61-8bc239f90d45",
   "metadata": {},
   "outputs": [
    {
     "data": {
      "text/plain": [
       "[<h2 headerid=\"0\" name=\"requirementstext\">University General Education Requirements</h2>,\n",
       " <h2 headerid=\"1\" name=\"requirementstext\">College of Agricultural and Life Sciences Requirements</h2>,\n",
       " <h2 headerid=\"2\" name=\"requirementstext\">Major Requirements</h2>,\n",
       " <h2 headerid=\"3\" name=\"requirementstext\">University Degree Requirements  </h2>]"
      ]
     },
     "execution_count": 106,
     "metadata": {},
     "output_type": "execute_result"
    }
   ],
   "source": [
    "soup.find_all(\"h2\", {\"name\":\"requirementstext\"})"
   ]
  },
  {
   "cell_type": "code",
   "execution_count": 107,
   "id": "6b97a604-4cc0-44b0-be7f-c57f13ba9a81",
   "metadata": {},
   "outputs": [],
   "source": [
    "for element in soup.find_all(\"table\", {\"class\":\"sc_courselist\"}):\n",
    "    df=pd.read_html(StringIO(str(element)))[0]\n",
    "    # print(df[[\"Code\",\"Credits\"]])\n",
    "    \n"
   ]
  },
  {
   "cell_type": "code",
   "execution_count": 112,
   "id": "8439d00c-fa69-485b-bf53-dd6dbedcc175",
   "metadata": {},
   "outputs": [],
   "source": [
    "# tags = soup.find_all([\"table\",\"span\", \"a\"])\n",
    "# found_tags = []\n",
    "\n",
    "# for tag in tags:\n",
    "#     if tag.name == \"span\" and tag.get(\"class\") == [\"courselistcomment\"]:\n",
    "#         found_tags.append(tag)\n",
    "#     # if tag.name == \"table\" and tag.get(\"class\") == [\"sc_courselist\"]:\n",
    "#     #     found_tags.append(pd.read_html(StringIO(str(tag)))[0][[\"Code\",\"Credits\"]].dropna())\n",
    "        \n",
    "#     if tag.name == \"a\" and tag.get(\"class\") == [\"bubblelink\", \"code\"]:\n",
    "#         found_tags.append(tag)\n",
    "        \n",
    "# # df=pd.concat(found_tags)\n",
    "# found_tags"
   ]
  },
  {
   "cell_type": "code",
   "execution_count": 114,
   "id": "76ab4d9f-3e67-48ed-afe0-53cbca08d9f9",
   "metadata": {},
   "outputs": [],
   "source": [
    "# (df[\"Credits\"])"
   ]
  },
  {
   "cell_type": "code",
   "execution_count": 16,
   "id": "fc1b107c-def6-4646-8f5c-b9a0cd4b8bc5",
   "metadata": {},
   "outputs": [],
   "source": [
    "# soup.find_all([(\"span\", {\"class\":\"courselistcomment\"}),\n",
    "#                (\"a\", {\"class\":\"bubblelink code\"})])\n",
    "\n",
    "\n",
    "tags = soup.find_all([\"h2\", \"span\", \"a\"])\n",
    "\n",
    "# Filter by attributes\n",
    "found_tags = []\n",
    "for tag in tags:\n",
    "    # print(tag.get(\"name\"))\n",
    "    if tag.name == \"span\" and tag.get(\"class\") == [\"courselistcomment\"]:\n",
    "        if re.findall(r\"Complete .* of the following\", tag.text):\n",
    "            found_tags.append(tag)\n",
    "    elif tag.name == \"a\" and tag.get(\"class\") == [\"bubblelink\", \"code\"]:\n",
    "        found_tags.append(tag)\n",
    "    elif tag.name == \"h2\" and tag.get(\"name\") == \"requirementstext\":\n",
    "        found_tags.append(tag)\n",
    "        \n",
    "# found_tags"
   ]
  },
  {
   "cell_type": "code",
   "execution_count": 17,
   "id": "c734de19-2293-47b0-9d26-43e8a607c5d7",
   "metadata": {},
   "outputs": [],
   "source": [
    "# tags"
   ]
  },
  {
   "cell_type": "code",
   "execution_count": 39,
   "id": "67117f06-2087-4d53-9f6c-f02d9edb09a5",
   "metadata": {},
   "outputs": [],
   "source": [
    "courses = set()\n",
    "\n",
    "for element in soup.find_all(\"a\", {\"class\":\"bubblelink code\"}):\n",
    "    course = element.text.encode('ascii', 'ignore').decode('ascii')\n",
    "    if re.findall(r\"[A-Z]+[0-9]+\", course):\n",
    "        courses.add(course)\n",
    "    \n",
    "# courses "
   ]
  },
  {
   "cell_type": "code",
   "execution_count": 17,
   "id": "e5c72f47-94cc-4dc4-b0c3-76249866afe4",
   "metadata": {},
   "outputs": [],
   "source": [
    "# majors = requests.get(\"https://guide.wisc.edu/explore-majors/\")"
   ]
  },
  {
   "cell_type": "code",
   "execution_count": 18,
   "id": "a12c9156-5315-4a06-a453-f7ea79f33f8e",
   "metadata": {},
   "outputs": [],
   "source": [
    "# ms = BeautifulSoup(majors.text, 'html.parser')"
   ]
  },
  {
   "cell_type": "code",
   "execution_count": 25,
   "id": "1b8d21bc-4d20-4a85-bc24-46e30c2cd07b",
   "metadata": {},
   "outputs": [],
   "source": [
    "# major_elements = ms.find(\"ul\", {\"class\":\"thumb-list clearfix\"}).find_all(\"a\")\n",
    "\n",
    "# major_links = []\n",
    "# for major in major_elements:\n",
    "#     major_links.append((major.find(\"span\", {\"class\": \"title list\"}).text, \"https://guide.wisc.edu\"+major[\"href\"]+\"#requirementstext\"))"
   ]
  },
  {
   "cell_type": "code",
   "execution_count": 27,
   "id": "fdb4b80a-c7ce-4472-a659-7e7db89eff0a",
   "metadata": {},
   "outputs": [],
   "source": [
    "# major_links"
   ]
  },
  {
   "cell_type": "code",
   "execution_count": 31,
   "id": "89ef22ed-769e-4eb7-bfa1-177724ffa55d",
   "metadata": {},
   "outputs": [],
   "source": [
    "# major_dict = {}\n",
    "\n",
    "# for major, link in major_links:\n",
    "    \n",
    "#     print(major)\n",
    "    \n",
    "#     with requests.get(link) as r:\n",
    "#         soup = BeautifulSoup(r.text, 'html.parser')\n",
    "\n",
    "#         courses = set()\n",
    "\n",
    "#         for element in soup.find_all(\"a\", {\"class\":\"bubblelink code\"}):\n",
    "#             course = element.text.encode('ascii', 'ignore').decode('ascii')\n",
    "#             if re.findall(r\"[A-Z]+[0-9]+\", course):\n",
    "#                 courses.add(course)\n",
    "\n",
    "#         major_dict[major] = courses\n",
    "            \n",
    "    "
   ]
  },
  {
   "cell_type": "code",
   "execution_count": 29,
   "id": "8e7c221f-11eb-4919-b19f-1507ea4da430",
   "metadata": {},
   "outputs": [],
   "source": [
    "# major_write = {major:list(major_dict[major]) for major in major_dict}"
   ]
  },
  {
   "cell_type": "code",
   "execution_count": 30,
   "id": "a3361183-642f-456a-9de5-fd7ce2aa19bc",
   "metadata": {},
   "outputs": [],
   "source": [
    "# import json\n",
    "\n",
    "# with open(\"classes.json\", \"w\") as f:\n",
    "#     json.dump(major_write, f)"
   ]
  },
  {
   "cell_type": "code",
   "execution_count": 95,
   "id": "69ae2e24-796d-43e1-b097-fc6a8b32e07b",
   "metadata": {},
   "outputs": [
    {
     "data": {
      "text/plain": [
       "321"
      ]
     },
     "execution_count": 95,
     "metadata": {},
     "output_type": "execute_result"
    }
   ],
   "source": [
    "# len(major_links)"
   ]
  },
  {
   "cell_type": "code",
   "execution_count": 33,
   "id": "898dea6e-6928-4114-982c-5a0ef2b3d25c",
   "metadata": {},
   "outputs": [],
   "source": [
    "# r.close()"
   ]
  },
  {
   "cell_type": "code",
   "execution_count": 234,
   "id": "f8d6415a-4c97-4430-b450-c3089fa01326",
   "metadata": {},
   "outputs": [],
   "source": [
    "r = requests.get(\"https://guide.wisc.edu/undergraduate/agricultural-life-sciences/genetics/genetics-genomics-bs/#requirementstext\")\n",
    "soup = BeautifulSoup(r.text, 'html.parser')"
   ]
  },
  {
   "cell_type": "code",
   "execution_count": 235,
   "id": "f437dd1a-0cbe-41fd-8dfc-5e7e9c2a8fa5",
   "metadata": {},
   "outputs": [
    {
     "data": {
      "text/plain": [
       "['CHEM\\xa0103',\n",
       " 'or\\xa0CHEM\\xa0108',\n",
       " 'or\\xa0CHEM\\xa0109',\n",
       " 'Complete one of the following:',\n",
       " 'MATH\\xa0221',\n",
       " 'MATH\\xa0171&\\xa0MATH\\xa0217',\n",
       " 'Complete one of the following:',\n",
       " 'STAT\\xa0371',\n",
       " 'STAT\\xa0301',\n",
       " 'STAT\\xa0240',\n",
       " 'Complete one of the following:',\n",
       " 'CHEM\\xa0103&\\xa0CHEM\\xa0104',\n",
       " 'CHEM\\xa0109',\n",
       " 'CHEM\\xa0115&\\xa0CHEM\\xa0116',\n",
       " 'Complete one of the following:',\n",
       " 'CHEM\\xa0341',\n",
       " 'CHEM\\xa0343&\\xa0CHEM\\xa0345',\n",
       " 'Complete one of the following:',\n",
       " 'PHYSICS\\xa0103&\\xa0PHYSICS\\xa0104',\n",
       " 'PHYSICS\\xa0201&\\xa0PHYSICS\\xa0202',\n",
       " 'PHYSICS\\xa0207&\\xa0PHYSICS\\xa0208',\n",
       " 'Complete one of the following options:',\n",
       " 'Option 1:',\n",
       " 'BIOLOGY/\\u200bBOTANY/\\u200bZOOLOGY\\xa0\\xa0151&\\xa0BIOLOGY/\\u200bBOTANY/\\u200bZOOLOGY\\xa0\\xa0152',\n",
       " 'Option 2:',\n",
       " 'BOTANY/\\u200bBIOLOGY\\xa0\\xa0130',\n",
       " 'ZOOLOGY/\\u200bBIOLOGY\\xa0\\xa0101&\\xa0ZOOLOGY/\\u200bBIOLOGY\\xa0\\xa0102',\n",
       " 'Option 3:',\n",
       " 'BIOCORE\\xa0381&\\xa0BIOCORE\\xa0383',\n",
       " 'Select two of the following labs:',\n",
       " 'BIOCORE\\xa0382',\n",
       " 'BIOCORE\\xa0384',\n",
       " 'BIOCORE\\xa0486',\n",
       " 'BIOCHEM\\xa0501',\n",
       " 'or\\xa0BIOCHEM\\xa0507',\n",
       " 'Complete one of the following options:',\n",
       " 'Option 1:',\n",
       " 'GENETICS\\xa0467&\\xa0GENETICS\\xa0468',\n",
       " 'Option 2:',\n",
       " 'GENETICS\\xa0466',\n",
       " 'Select 2 credits from the following:',\n",
       " 'GENETICS\\xa0545',\n",
       " 'GENETICS\\xa0299',\n",
       " 'GENETICS\\xa0699',\n",
       " 'GENETICS\\xa0681',\n",
       " 'GENETICS\\xa0682',\n",
       " 'GENETICS\\xa0399',\n",
       " 'Select one of the following:',\n",
       " 'Option 1:',\n",
       " 'GENETICS/\\u200bBIOLOGY\\xa0\\xa0522',\n",
       " 'Option 2:',\n",
       " 'GENETICS\\xa0527',\n",
       " 'Option 3:',\n",
       " 'GENETICS\\xa0566',\n",
       " 'Option 4:',\n",
       " 'GENETICS\\xa0564',\n",
       " 'Option 5 (must be taken concurrently):',\n",
       " 'GENETICS\\xa0699',\n",
       " 'GENETICS\\xa0567',\n",
       " 'Option 6 (must be taken concurrently):',\n",
       " 'GENETICS\\xa0681',\n",
       " 'GENETICS\\xa0682',\n",
       " 'GENETICS\\xa0567',\n",
       " 'Depth',\n",
       " 'GENETICS\\xa0520',\n",
       " 'GENETICS/\\u200bBIOLOGY\\xa0\\xa0522',\n",
       " 'GENETICS\\xa0525',\n",
       " 'GENETICS\\xa0527',\n",
       " 'GENETICS\\xa0528',\n",
       " 'GENETICS\\xa0548',\n",
       " 'GENETICS/HORT 550',\n",
       " 'GENETICS\\xa0564',\n",
       " 'GENETICS/\\u200bMD\\xa0GENET\\xa0\\xa0565',\n",
       " 'GENETICS\\xa0566',\n",
       " 'GENETICS\\xa0588',\n",
       " 'GENETICS\\xa0605',\n",
       " 'GENETICS/\\u200bBIOCHEM/\\u200bMICROBIO\\xa0\\xa0612',\n",
       " 'GENETICS/\\u200bBIOCHEM/\\u200bMD\\xa0GENET\\xa0\\xa0620',\n",
       " 'GENETICS/\\u200bCHEM\\xa0\\xa0626',\n",
       " 'GENETICS\\xa0627',\n",
       " 'GENETICS/\\u200bBIOCHEM\\xa0\\xa0631',\n",
       " 'GENETICS\\xa0633',\n",
       " 'GENETICS/\\u200bBOTANY/\\u200bM\\xa0M\\xa0&\\xa0I/\\u200bPL\\xa0PATH\\xa0\\xa0655',\n",
       " 'GENETICS/\\u200bMD\\xa0GENET\\xa0\\xa0662',\n",
       " 'GENETICS/\\u200bMD\\xa0GENET\\xa0\\xa0677',\n",
       " 'Breadth',\n",
       " 'BIOCHEM\\xa0508',\n",
       " 'BIOCHEM/\\u200bNUTR\\xa0SCI\\xa0\\xa0560',\n",
       " 'CHEM\\xa0344',\n",
       " 'CHEM\\xa0345',\n",
       " 'BIOCHEM/\\u200bM\\xa0M\\xa0&\\xa0I\\xa0\\xa0575',\n",
       " 'BIOCORE\\xa0485',\n",
       " 'BIOCORE\\xa0587',\n",
       " 'BOTANY/\\u200bANTHRO/\\u200bZOOLOGY\\xa0\\xa0410',\n",
       " 'BOTANY/\\u200bPL\\xa0PATH\\xa0\\xa0563',\n",
       " 'MICROBIO\\xa0303',\n",
       " 'MICROBIO\\xa0304',\n",
       " 'MICROBIO\\xa0470',\n",
       " 'MICROBIO/\\u200bONCOLOGY\\xa0\\xa0545',\n",
       " 'MICROBIO\\xa0632',\n",
       " 'M\\xa0M\\xa0&\\xa0I\\xa0341',\n",
       " 'M\\xa0M\\xa0&\\xa0I/\\u200bPATH-BIO\\xa0\\xa0528',\n",
       " 'PHM\\xa0SCI\\xa0490',\n",
       " 'PL\\xa0PATH\\xa0622',\n",
       " 'PL\\xa0PATH/\\u200bM\\xa0M\\xa0&\\xa0I/\\u200bONCOLOGY\\xa0\\xa0640',\n",
       " 'ZOOLOGY/\\u200bENVIR\\xa0ST/\\u200bF&W\\xa0ECOL\\xa0\\xa0360',\n",
       " 'ZOOLOGY\\xa0425',\n",
       " 'ZOOLOGY\\xa0470',\n",
       " 'ZOOLOGY\\xa0555',\n",
       " 'ZOOLOGY\\xa0570',\n",
       " 'AGRONOMY/\\u200bHORT\\xa0\\xa0338',\n",
       " 'AGRONOMY/\\u200bBOTANY/\\u200bHORT\\xa0\\xa0340',\n",
       " 'AGRONOMY/\\u200bHORT\\xa0\\xa0360',\n",
       " 'AGRONOMY/\\u200bHORT\\xa0\\xa0501',\n",
       " 'AGRONOMY/\\u200bHORT\\xa0\\xa0502',\n",
       " 'AN\\xa0SCI/\\u200bDY\\xa0SCI\\xa0\\xa0361',\n",
       " 'AN\\xa0SCI/\\u200bDY\\xa0SCI\\xa0\\xa0362',\n",
       " 'AN\\xa0SCI/\\u200bDY\\xa0SCI\\xa0\\xa0363',\n",
       " 'PL\\xa0PATH/\\u200bBOTANY/\\u200bENTOM\\xa0\\xa0505',\n",
       " 'B\\xa0M\\xa0I/\\u200bCOMP\\xa0SCI\\xa0\\xa0576',\n",
       " 'BIOCHEM\\xa0570']"
      ]
     },
     "execution_count": 235,
     "metadata": {},
     "output_type": "execute_result"
    }
   ],
   "source": [
    "tags = soup.find(\"div\", {\"id\":\"requirementstextcontainer\"}).find_all([\"h2\", \"span\", \"a\", \"td\", \"tr\", \"h4\"])\n",
    "\n",
    "# Filter by attributes\n",
    "found_tags = []\n",
    "for tag in tags:\n",
    "    # print(tag.get(\"class\")) \n",
    "    \n",
    "    if tag.name == \"tr\" and tag.find(\"td\") and \"codecol\" in tag.find(\"td\").get(\"class\", []):\n",
    "        found_tags.append(tag.find(\"td\").text)\n",
    "    \n",
    "    # if tag.name == \"td\" and tag.get(\"class\") and \"codecol\" in tag.get(\"class\"):\n",
    "    #     found_tags.append(tag.text)\n",
    "    \n",
    "    # # print(tag.get(\"name\"))\n",
    "    if tag.name == \"span\" and \"courselistcomment\" in tag.get(\"class\", []):\n",
    "        if re.findall(r\"of the following|from the following|Option\", tag.text):\n",
    "            found_tags.append(tag.text)\n",
    "            \n",
    "    if tag.name == \"h4\" and (tag.text == \"Depth\" or tag.text == \"Breadth\"):\n",
    "        found_tags.append(tag.text)\n",
    "    # elif tag.name == \"a\" and tag.get(\"class\") == [\"bubblelink\", \"code\"]:\n",
    "    #     found_tags.append(tag)\n",
    "    # # elif tag.name == \"h2\" and tag.get(\"name\") == \"requirementstext\":\n",
    "    # #     found_tags.append(tag)\n",
    "        \n",
    "found_tags"
   ]
  },
  {
   "cell_type": "code",
   "execution_count": 231,
   "id": "d7e53f60-341e-47f5-99f5-7e1701709da9",
   "metadata": {},
   "outputs": [],
   "source": [
    "r = requests.get(\"https://guide.wisc.edu/undergraduate/agricultural-life-sciences/animal-dairy-sciences/dairy-science-bs/index.html#requirementstext\")\n",
    "soup = BeautifulSoup(r.text, 'html.parser')"
   ]
  },
  {
   "cell_type": "code",
   "execution_count": 236,
   "id": "bf6f64c5-c677-40d8-bf83-fdb0a97a93fb",
   "metadata": {},
   "outputs": [
    {
     "data": {
      "text/plain": [
       "['CHEM\\xa0103',\n",
       " 'or\\xa0CHEM\\xa0108',\n",
       " 'or\\xa0CHEM\\xa0109',\n",
       " 'Complete one of the following:',\n",
       " 'MATH\\xa0221',\n",
       " 'MATH\\xa0171&\\xa0MATH\\xa0217',\n",
       " 'Complete one of the following:',\n",
       " 'STAT\\xa0371',\n",
       " 'STAT\\xa0301',\n",
       " 'STAT\\xa0240',\n",
       " 'Complete one of the following:',\n",
       " 'CHEM\\xa0103&\\xa0CHEM\\xa0104',\n",
       " 'CHEM\\xa0109',\n",
       " 'CHEM\\xa0115&\\xa0CHEM\\xa0116',\n",
       " 'Complete one of the following:',\n",
       " 'CHEM\\xa0341',\n",
       " 'CHEM\\xa0343&\\xa0CHEM\\xa0345',\n",
       " 'Complete one of the following:',\n",
       " 'PHYSICS\\xa0103&\\xa0PHYSICS\\xa0104',\n",
       " 'PHYSICS\\xa0201&\\xa0PHYSICS\\xa0202',\n",
       " 'PHYSICS\\xa0207&\\xa0PHYSICS\\xa0208',\n",
       " 'Complete one of the following options:',\n",
       " 'Option 1:',\n",
       " 'BIOLOGY/\\u200bBOTANY/\\u200bZOOLOGY\\xa0\\xa0151&\\xa0BIOLOGY/\\u200bBOTANY/\\u200bZOOLOGY\\xa0\\xa0152',\n",
       " 'Option 2:',\n",
       " 'BOTANY/\\u200bBIOLOGY\\xa0\\xa0130',\n",
       " 'ZOOLOGY/\\u200bBIOLOGY\\xa0\\xa0101&\\xa0ZOOLOGY/\\u200bBIOLOGY\\xa0\\xa0102',\n",
       " 'Option 3:',\n",
       " 'BIOCORE\\xa0381&\\xa0BIOCORE\\xa0383',\n",
       " 'Select two of the following labs:',\n",
       " 'BIOCORE\\xa0382',\n",
       " 'BIOCORE\\xa0384',\n",
       " 'BIOCORE\\xa0486',\n",
       " 'BIOCHEM\\xa0501',\n",
       " 'or\\xa0BIOCHEM\\xa0507',\n",
       " 'Complete one of the following options:',\n",
       " 'Option 1:',\n",
       " 'GENETICS\\xa0467&\\xa0GENETICS\\xa0468',\n",
       " 'Option 2:',\n",
       " 'GENETICS\\xa0466',\n",
       " 'Select 2 credits from the following:',\n",
       " 'GENETICS\\xa0545',\n",
       " 'GENETICS\\xa0299',\n",
       " 'GENETICS\\xa0699',\n",
       " 'GENETICS\\xa0681',\n",
       " 'GENETICS\\xa0682',\n",
       " 'GENETICS\\xa0399',\n",
       " 'Select one of the following:',\n",
       " 'Option 1:',\n",
       " 'GENETICS/\\u200bBIOLOGY\\xa0\\xa0522',\n",
       " 'Option 2:',\n",
       " 'GENETICS\\xa0527',\n",
       " 'Option 3:',\n",
       " 'GENETICS\\xa0566',\n",
       " 'Option 4:',\n",
       " 'GENETICS\\xa0564',\n",
       " 'Option 5 (must be taken concurrently):',\n",
       " 'GENETICS\\xa0699',\n",
       " 'GENETICS\\xa0567',\n",
       " 'Option 6 (must be taken concurrently):',\n",
       " 'GENETICS\\xa0681',\n",
       " 'GENETICS\\xa0682',\n",
       " 'GENETICS\\xa0567',\n",
       " 'GENETICS\\xa0520',\n",
       " 'GENETICS/\\u200bBIOLOGY\\xa0\\xa0522',\n",
       " 'GENETICS\\xa0525',\n",
       " 'GENETICS\\xa0527',\n",
       " 'GENETICS\\xa0528',\n",
       " 'GENETICS\\xa0548',\n",
       " 'GENETICS/HORT 550',\n",
       " 'GENETICS\\xa0564',\n",
       " 'GENETICS/\\u200bMD\\xa0GENET\\xa0\\xa0565',\n",
       " 'GENETICS\\xa0566',\n",
       " 'GENETICS\\xa0588',\n",
       " 'GENETICS\\xa0605',\n",
       " 'GENETICS/\\u200bBIOCHEM/\\u200bMICROBIO\\xa0\\xa0612',\n",
       " 'GENETICS/\\u200bBIOCHEM/\\u200bMD\\xa0GENET\\xa0\\xa0620',\n",
       " 'GENETICS/\\u200bCHEM\\xa0\\xa0626',\n",
       " 'GENETICS\\xa0627',\n",
       " 'GENETICS/\\u200bBIOCHEM\\xa0\\xa0631',\n",
       " 'GENETICS\\xa0633',\n",
       " 'GENETICS/\\u200bBOTANY/\\u200bM\\xa0M\\xa0&\\xa0I/\\u200bPL\\xa0PATH\\xa0\\xa0655',\n",
       " 'GENETICS/\\u200bMD\\xa0GENET\\xa0\\xa0662',\n",
       " 'GENETICS/\\u200bMD\\xa0GENET\\xa0\\xa0677',\n",
       " 'BIOCHEM\\xa0508',\n",
       " 'BIOCHEM/\\u200bNUTR\\xa0SCI\\xa0\\xa0560',\n",
       " 'CHEM\\xa0344',\n",
       " 'CHEM\\xa0345',\n",
       " 'BIOCHEM/\\u200bM\\xa0M\\xa0&\\xa0I\\xa0\\xa0575',\n",
       " 'BIOCORE\\xa0485',\n",
       " 'BIOCORE\\xa0587',\n",
       " 'BOTANY/\\u200bANTHRO/\\u200bZOOLOGY\\xa0\\xa0410',\n",
       " 'BOTANY/\\u200bPL\\xa0PATH\\xa0\\xa0563',\n",
       " 'MICROBIO\\xa0303',\n",
       " 'MICROBIO\\xa0304',\n",
       " 'MICROBIO\\xa0470',\n",
       " 'MICROBIO/\\u200bONCOLOGY\\xa0\\xa0545',\n",
       " 'MICROBIO\\xa0632',\n",
       " 'M\\xa0M\\xa0&\\xa0I\\xa0341',\n",
       " 'M\\xa0M\\xa0&\\xa0I/\\u200bPATH-BIO\\xa0\\xa0528',\n",
       " 'PHM\\xa0SCI\\xa0490',\n",
       " 'PL\\xa0PATH\\xa0622',\n",
       " 'PL\\xa0PATH/\\u200bM\\xa0M\\xa0&\\xa0I/\\u200bONCOLOGY\\xa0\\xa0640',\n",
       " 'ZOOLOGY/\\u200bENVIR\\xa0ST/\\u200bF&W\\xa0ECOL\\xa0\\xa0360',\n",
       " 'ZOOLOGY\\xa0425',\n",
       " 'ZOOLOGY\\xa0470',\n",
       " 'ZOOLOGY\\xa0555',\n",
       " 'ZOOLOGY\\xa0570',\n",
       " 'AGRONOMY/\\u200bHORT\\xa0\\xa0338',\n",
       " 'AGRONOMY/\\u200bBOTANY/\\u200bHORT\\xa0\\xa0340',\n",
       " 'AGRONOMY/\\u200bHORT\\xa0\\xa0360',\n",
       " 'AGRONOMY/\\u200bHORT\\xa0\\xa0501',\n",
       " 'AGRONOMY/\\u200bHORT\\xa0\\xa0502',\n",
       " 'AN\\xa0SCI/\\u200bDY\\xa0SCI\\xa0\\xa0361',\n",
       " 'AN\\xa0SCI/\\u200bDY\\xa0SCI\\xa0\\xa0362',\n",
       " 'AN\\xa0SCI/\\u200bDY\\xa0SCI\\xa0\\xa0363',\n",
       " 'PL\\xa0PATH/\\u200bBOTANY/\\u200bENTOM\\xa0\\xa0505',\n",
       " 'B\\xa0M\\xa0I/\\u200bCOMP\\xa0SCI\\xa0\\xa0576',\n",
       " 'BIOCHEM\\xa0570']"
      ]
     },
     "execution_count": 236,
     "metadata": {},
     "output_type": "execute_result"
    }
   ],
   "source": [
    "tags = soup.find(\"div\", {\"id\":\"requirementstextcontainer\"}).find_all([\"h2\", \"span\", \"a\", \"td\", \"tr\"])\n",
    "\n",
    "# Filter by attributes\n",
    "found_tags = []\n",
    "for tag in tags:\n",
    "    # print(tag.get(\"class\")) \n",
    "    \n",
    "    if tag.name == \"tr\" and tag.find(\"td\") and \"codecol\" in tag.find(\"td\").get(\"class\", []):\n",
    "        found_tags.append(tag.find(\"td\").text)\n",
    "    \n",
    "    # if tag.name == \"td\" and tag.get(\"class\") and \"codecol\" in tag.get(\"class\"):\n",
    "    #     found_tags.append(tag.text)\n",
    "    \n",
    "    # # print(tag.get(\"name\"))\n",
    "    if tag.name == \"span\" and \"courselistcomment\" in tag.get(\"class\", []):\n",
    "        if re.findall(r\"of the following|from the following|Option\", tag.text):\n",
    "            found_tags.append(tag.text)\n",
    "            \n",
    "    if tag.name == \"h4\" and (tag.text == \"Depth\" or tag.text == \"Breadth\"):\n",
    "        found_tags.append(tag.text)\n",
    "            \n",
    "        # if re.findall(r\"Option\", tag.text):\n",
    "        #     found_tags.append(tag.text)\n",
    "    # elif tag.name == \"a\" and tag.get(\"class\") == [\"bubblelink\", \"code\"]:\n",
    "    #     found_tags.append(tag)\n",
    "    # # elif tag.name == \"h2\" and tag.get(\"name\") == \"requirementstext\":\n",
    "    # #     found_tags.append(tag)\n",
    "        \n",
    "found_tags"
   ]
  },
  {
   "cell_type": "code",
   "execution_count": 238,
   "id": "3ffb3438-1d3b-4c57-8574-18380fa13ce5",
   "metadata": {},
   "outputs": [
    {
     "name": "stdout",
     "output_type": "stream",
     "text": [
      "{'Required Courses': ['Complete one of the following options:']}\n"
     ]
    },
    {
     "ename": "KeyError",
     "evalue": "None",
     "output_type": "error",
     "traceback": [
      "\u001b[0;31m---------------------------------------------------------------------------\u001b[0m",
      "\u001b[0;31mKeyError\u001b[0m                                  Traceback (most recent call last)",
      "Cell \u001b[0;32mIn[238], line 24\u001b[0m\n\u001b[1;32m     22\u001b[0m \u001b[38;5;66;03m# grouped_courses[idx][current_key] = {}\u001b[39;00m\n\u001b[1;32m     23\u001b[0m \u001b[38;5;28mprint\u001b[39m(grouped_courses[idx])\n\u001b[0;32m---> 24\u001b[0m \u001b[38;5;28;01mif\u001b[39;00m \u001b[38;5;28misinstance\u001b[39m(\u001b[43mgrouped_courses\u001b[49m\u001b[43m[\u001b[49m\u001b[43midx\u001b[49m\u001b[43m]\u001b[49m\u001b[43m[\u001b[49m\u001b[43mcurrent_key\u001b[49m\u001b[43m]\u001b[49m, \u001b[38;5;28mdict\u001b[39m):\n\u001b[1;32m     25\u001b[0m     grouped_courses[idx][current_key][option_key] \u001b[38;5;241m=\u001b[39m []\n\u001b[1;32m     26\u001b[0m \u001b[38;5;28;01melse\u001b[39;00m:\n",
      "\u001b[0;31mKeyError\u001b[0m: None"
     ]
    }
   ],
   "source": [
    "# Clean up non-breaking spaces\n",
    "cleaned_courses = [course.replace('\\xa0', ' ') for course in found_tags]\n",
    "\n",
    "# Initialize variables for storing grouped data\n",
    "grouped_courses = []\n",
    "idx = -1\n",
    "current_key = None\n",
    "option_key = None\n",
    "\n",
    "# Loop through the list and organize it into groups\n",
    "for course in cleaned_courses:\n",
    "    if course.startswith(\"Select one of the following\") or course.startswith(\"Select one of the following options:\"):\n",
    "        # Create a new section for \"Select one of the following\"\n",
    "        current_key = course\n",
    "        grouped_courses.append({current_key : []})\n",
    "        idx += 1\n",
    "        option_key = None\n",
    "        \n",
    "    elif course.startswith(\"Option\"):\n",
    "        # Create a sub-option section\n",
    "        option_key = course\n",
    "        # grouped_courses[idx][current_key] = {}\n",
    "        print(grouped_courses[idx])\n",
    "        if isinstance(grouped_courses[idx][current_key], dict):\n",
    "            grouped_courses[idx][current_key][option_key] = []\n",
    "        else:\n",
    "            grouped_courses[idx][current_key] = {option_key:[]}\n",
    "        \n",
    "    elif current_key and not option_key:\n",
    "        # Add courses to the current \"Select one of the following\" section\n",
    "        grouped_courses[idx][current_key].append(course)\n",
    "        \n",
    "    elif option_key:\n",
    "        # Add courses to the specific option section\n",
    "        grouped_courses[idx][current_key][option_key].append(course)\n",
    "        \n",
    "    elif current_key and course.startswith(\"or\"):\n",
    "        grouped_courses[idx][current_key].append(course)\n",
    "    else:\n",
    "        # If no section header, treat it as a required course\n",
    "        if 'Required Courses' not in grouped_courses:\n",
    "            grouped_courses.append({'Required Courses' : []})\n",
    "        idx += 1\n",
    "        grouped_courses[idx]['Required Courses'].append(course)\n",
    "\n",
    "# # Display the organized data\n",
    "# for section, courses in grouped_courses.items():\n",
    "#     print(f\"\\n{section}:\")\n",
    "#     for course in courses:\n",
    "#         print(f\"  - {course}\")\n",
    "\n",
    "grouped_courses"
   ]
  },
  {
   "cell_type": "code",
   "execution_count": 52,
   "id": "16d74550-c77b-4593-bee0-6f17243034be",
   "metadata": {},
   "outputs": [
    {
     "data": {
      "text/plain": [
       "[{'Statistics/Mathematics (One course from the following):': ['STAT301',\n",
       "   'STAT324',\n",
       "   'STAT371']},\n",
       " {'General Chemistry (One of the following):': ['CHEM103&CHEM104',\n",
       "   'CHEM115&CHEM116',\n",
       "   'CHEM109',\n",
       "   'CHEM341',\n",
       "   'orCHEM343']},\n",
       " {'Physics (One course from the following):': ['PHYSICS115',\n",
       "   'PHYSICS103',\n",
       "   'PHYSICS104',\n",
       "   'PHYSICS201',\n",
       "   'PHYSICS202',\n",
       "   'PHYSICS207',\n",
       "   'PHYSICS208',\n",
       "   'PHYSICS247',\n",
       "   'PHYSICS248',\n",
       "   'PHYSICS249']},\n",
       " {'Introductory Biology (Complete one option):': {'Option A, Recommended': ['BOTANY/BIOLOGY130'],\n",
       "   'Option B: Introductory Biology': ['BOTANY/BIOLOGY/ZOOLOGY151',\n",
       "    'BOTANY/BIOLOGY/ZOOLOGY152'],\n",
       "   'Option C: BIOCORE': ['BIOCORE381',\n",
       "    'BIOCORE382',\n",
       "    'BIOCORE383',\n",
       "    'BIOCORE384',\n",
       "    'BIOCORE485']}},\n",
       " {'Cell, Molecular, Physiology (1 course required):': ['BOTANY300',\n",
       "   'orBOTANY500']},\n",
       " {'Ecology (1 course required):': ['BOTANY/F&WECOL455',\n",
       "   'orBOTANY/F&WECOL/ZOOLOGY460']},\n",
       " {'Genetics, Evolution (1 course required):': ['BOTANY/ANTHRO/ZOOLOGY410',\n",
       "   'AGRONOMY/HORT338',\n",
       "   'GENETICS466',\n",
       "   'GENETICS467',\n",
       "   'GENETICS468',\n",
       "   'BOTANY305',\n",
       "   'BOTANY330',\n",
       "   'BOTANY/PLPATH332',\n",
       "   'BOTANY400',\n",
       "   'BOTANY401']},\n",
       " {'Optionally, 1 of the 5 required courses may come from this list, or students may take a second course from any area listed above:': ['BOTANY/GEOG338',\n",
       "   'BOTANY/AGRONOMY/HORT339',\n",
       "   'BOTANY/AGRONOMY/SOILSCI370',\n",
       "   'BOTANY/F&WECOL402',\n",
       "   'BOTANY403',\n",
       "   'BOTANY422',\n",
       "   'BOTANY/ZOOLOGY450',\n",
       "   'BOTANY/ENTOM/ZOOLOGY473',\n",
       "   'BOTANY/AMERIND/ANTHRO474',\n",
       "   'BOTANY/ENTOM/PLPATH505',\n",
       "   'BOTANY/PLPATH563',\n",
       "   'BOTANY/BIOCHEM621',\n",
       "   'BOTANY/ENVIRST/F&WECOL/ZOOLOGY651',\n",
       "   'BIOCHEM501',\n",
       "   'BIOCORE486',\n",
       "   'BIOCORE587',\n",
       "   'F&WECOL415',\n",
       "   'MICROBIO303',\n",
       "   'ZOOLOGY570',\n",
       "   'BOTANY691&BOTANY692',\n",
       "   'BOTANY681&BOTANY682',\n",
       "   'BOTANY699']}]"
      ]
     },
     "execution_count": 52,
     "metadata": {},
     "output_type": "execute_result"
    }
   ],
   "source": [
    "r = requests.get(\"https://guide.wisc.edu/undergraduate/letters-science/botany/botany-bs/\")\n",
    "soup = BeautifulSoup(r.text, 'html.parser')\n",
    "\n",
    "tags = soup.find(\"div\", {\"id\":\"requirementstextcontainer\"}).find_all([\"h2\", \"span\", \"a\", \"td\", \"tr\", \"h3\", \"h4\"])\n",
    "\n",
    "# Filter by attributes\n",
    "found_tags = []\n",
    "for tag in tags:\n",
    "    # print(tag.text) \n",
    "    \n",
    "    if tag.name == \"tr\" and tag.find(\"td\") and \"codecol\" in tag.find(\"td\").get(\"class\", []):\n",
    "        found_tags.append(tag.find(\"td\").text)\n",
    "    \n",
    "    # if tag.name == \"td\" and tag.get(\"class\") and \"codecol\" in tag.get(\"class\"):\n",
    "    #     found_tags.append(tag.text)\n",
    "    \n",
    "    # # print(tag.get(\"name\"))\n",
    "    if tag.name == \"span\" and \"courselistcomment\" in tag.get(\"class\", []):\n",
    "        if re.findall(r\"of the following|from the following|option|courses from|\\d course|advanced|additional|complete\", tag.text.lower()):\n",
    "            found_tags.append(tag.text)\n",
    "            \n",
    "    if tag.name == \"h4\" and (tag.text.lower().find(\"depth\") != -1 or tag.text.lower().find(\"breadth\") != -1):\n",
    "        found_tags.append(tag.text)\n",
    "        \n",
    "    # if tag.name == \"h3\" and tag.get(\"class\") == [\"toggle\"]:\n",
    "    #     found_tags.append(\"complete \"+tag.text)\n",
    "        \n",
    "    if tag.name.startswith(\"h4\") and tag.get(\"class\") == [\"toggle\"]:\n",
    "        found_tags.append(\"complete \"+tag.text)\n",
    "        \n",
    "# print(found_tags)\n",
    "\n",
    "# Clean up non-breaking spaces\n",
    "cleaned_courses = [course.encode('ascii', 'ignore').decode('ascii').strip() for course in found_tags]\n",
    "\n",
    "# Initialize variables for storing grouped data\n",
    "grouped_courses = []\n",
    "idx = -1\n",
    "current_key = None\n",
    "option_key = None\n",
    "\n",
    "# Loop through the list and organize it into groups\n",
    "for course in cleaned_courses:     \n",
    "    if (course.lower().find(\"select\") != -1 or course.lower().find(\"complete\") != -1 or \\\n",
    "    course.lower().find(\"depth\") != -1 or course.lower().find(\"breadth\") != -1 or \\\n",
    "    course.lower().find(\"choose\") != -1 or course.lower().find(\"course\") != -1 or \\\n",
    "    course.lower().find(\"advanced\") != -1 or course.lower().find(\"additional\") != -1 or \\\n",
    "    course.lower().find(\"following\") != -1):\n",
    "        # Create a new section for \"Select one of the following\"\n",
    "        current_key = course\n",
    "        grouped_courses.append({current_key : []})\n",
    "        idx += 1\n",
    "        option_key = None\n",
    "        \n",
    "    elif current_key and course.lower().startswith(\"or\"):\n",
    "        grouped_courses[idx][current_key].append(course)\n",
    "        \n",
    "    elif course.lower().find(\"option\") != -1:\n",
    "        # Create a sub-option section\n",
    "        option_key = course\n",
    "        # grouped_courses[idx][current_key] = {}\n",
    "        if isinstance(grouped_courses[idx][current_key], dict):\n",
    "            grouped_courses[idx][current_key][option_key] = []\n",
    "        else:\n",
    "            grouped_courses[idx][current_key] = {option_key:[]}\n",
    "        \n",
    "    elif current_key and not option_key:\n",
    "        # Add courses to the current \"Select one of the following\" section\n",
    "        grouped_courses[idx][current_key].append(course)\n",
    "        \n",
    "    elif option_key:\n",
    "        # Add courses to the specific option section\n",
    "        grouped_courses[idx][current_key][option_key].append(course)\n",
    "\n",
    "        \n",
    "    else:\n",
    "        # If no section header, treat it as a required course\n",
    "        if ['Required Courses'] not in [list(item.keys()) for item in grouped_courses if isinstance(item, dict)]:\n",
    "            grouped_courses.append({'Required Courses' : []})\n",
    "            idx += 1\n",
    "            current_key = 'Required Courses'\n",
    "        # print([item.keys() for item in grouped_courses if isinstance(item, dict)])\n",
    "        grouped_courses[idx]['Required Courses'].append(course)\n",
    "\n",
    "\n",
    "grouped_courses\n"
   ]
  },
  {
   "cell_type": "code",
   "execution_count": null,
   "id": "68e55137-d477-4958-a5b2-8a561ce0aa9c",
   "metadata": {},
   "outputs": [],
   "source": []
  },
  {
   "cell_type": "code",
   "execution_count": null,
   "id": "fc9df29b-96fb-4073-89f2-d193d3676648",
   "metadata": {},
   "outputs": [],
   "source": []
  },
  {
   "cell_type": "code",
   "execution_count": null,
   "id": "a3445450-96fb-4fb2-a06c-14e49cda1e5a",
   "metadata": {},
   "outputs": [],
   "source": []
  },
  {
   "cell_type": "code",
   "execution_count": 495,
   "id": "a748b7a2-32d2-44a3-b88d-f42b24a576a2",
   "metadata": {},
   "outputs": [],
   "source": [
    "r = requests.get(\"https://guide.wisc.edu/courses/\")\n",
    "soup = BeautifulSoup(r.text, 'html.parser')"
   ]
  },
  {
   "cell_type": "code",
   "execution_count": 496,
   "id": "724a7caf-48b9-41fb-bc2c-721b5a74b03c",
   "metadata": {},
   "outputs": [],
   "source": [
    "links = [\"https://guide.wisc.edu\" + item.get(\"href\") for item in soup.find(\"div\", {\"id\":\"atozindex\"}).find_all(\"a\")]"
   ]
  },
  {
   "cell_type": "code",
   "execution_count": 497,
   "id": "84c04c06-5994-4d39-8172-e2a7bcde4526",
   "metadata": {},
   "outputs": [
    {
     "data": {
      "text/plain": [
       "['https://guide.wisc.edu/courses/acct_i_s/',\n",
       " 'https://guide.wisc.edu/courses/act_sci/']"
      ]
     },
     "execution_count": 497,
     "metadata": {},
     "output_type": "execute_result"
    }
   ],
   "source": [
    "links[:2]"
   ]
  },
  {
   "cell_type": "code",
   "execution_count": 501,
   "id": "d86c3cf2-2b2a-4210-a312-f17ab029e1f6",
   "metadata": {},
   "outputs": [],
   "source": [
    "# classes = {}\n",
    "# last = None\n",
    "# label = None\n",
    "# for link in links:\n",
    "#     print(link)\n",
    "#     with requests.get(link) as r:\n",
    "#         soup = BeautifulSoup(r.text, 'html.parser')\n",
    "    \n",
    "#     para = soup.find_all([\"p\", \"div\"])\n",
    "#     for p in para:\n",
    "#         # print(p.get(\"class\"))\n",
    "#         if p.get(\"class\") == [\"courseblocktitle\", \"noindent\"]:\n",
    "#             key = p.text.encode('ascii', 'ignore').decode('ascii').strip().split()[0]\n",
    "#             dept = \"/\".join(sorted(re.findall(r\"\\D+\", key)[0].split(\"/\")))\n",
    "#             num = re.findall(r\"\\d+\", key)[0]\n",
    "#             key = dept+num\n",
    "#             classes[key] = {}\n",
    "#             last = key\n",
    "#         elif p.get(\"class\") == [\"courseblockcredits\"]:\n",
    "#             classes[last]['credits'] = p.text.split()[0]\n",
    "            \n",
    "#         elif p.get(\"class\") == [\"cb-extras\"]:\n",
    "#             info = p.find_all(\"span\")\n",
    "#             for i in info:\n",
    "#                 if i.get(\"class\") == [\"cbextra=label\"]:\n",
    "#                     if i.text == 'Repeatable for Credit: ':\n",
    "#                         break\n",
    "#                     classes[last][i.text] = None\n",
    "#                     category = i.text\n",
    "#                 if i.get(\"class\") == [\"cbextra-data\"]:\n",
    "#                     classes[last][category] = i.text.encode('ascii', 'ignore').decode('ascii').strip()\n",
    "            "
   ]
  },
  {
   "cell_type": "code",
   "execution_count": 502,
   "id": "23379849-c84e-4335-86db-ee9e74801842",
   "metadata": {},
   "outputs": [],
   "source": [
    "# len(classes)"
   ]
  },
  {
   "cell_type": "code",
   "execution_count": 503,
   "id": "fbb8501b-82ce-4aea-9edf-bd920063ed57",
   "metadata": {},
   "outputs": [],
   "source": [
    "# import json\n",
    "\n",
    "# with open(\"courses.json\", \"w\") as f:\n",
    "    # json.dump(classes, f)"
   ]
  },
  {
   "cell_type": "code",
   "execution_count": 327,
   "id": "841bd060-710b-42d9-8c61-8f01cae62e13",
   "metadata": {},
   "outputs": [],
   "source": [
    "# max([(len(item), item) for item in classes])"
   ]
  },
  {
   "cell_type": "code",
   "execution_count": null,
   "id": "436617bc-6438-4d0d-8691-3709c955b512",
   "metadata": {},
   "outputs": [],
   "source": []
  },
  {
   "cell_type": "code",
   "execution_count": 72,
   "id": "a99c236c-7bb6-422c-b6fe-6730eb162846",
   "metadata": {},
   "outputs": [],
   "source": [
    "# r = requests.get(\"https://guide.wisc.edu/undergraduate/#majorscertificatestext\")\n",
    "# soup = BeautifulSoup(r.text, 'html.parser')"
   ]
  },
  {
   "cell_type": "code",
   "execution_count": 73,
   "id": "fcef322c-18a2-4ee2-b465-b5f79b1cdea5",
   "metadata": {},
   "outputs": [],
   "source": [
    "# links = [(\"https://guide.wisc.edu\"+item.get(\"href\")+\"#requirementstext\", re.sub(r\"\\W\", \"\", item.find(\"span\", {\"class\": \"title list\"}).text.encode('ascii', 'ignore').decode('ascii').strip())) for item in soup.find(\"div\", {\"id\":\"majorscertificatestextcontainer\"}).find(\"ul\").find_all(\"a\")]"
   ]
  },
  {
   "cell_type": "code",
   "execution_count": 74,
   "id": "0ebc144f-30e3-4fcb-b517-628f8b9fe5bd",
   "metadata": {},
   "outputs": [],
   "source": [
    "# links[:5]"
   ]
  },
  {
   "cell_type": "code",
   "execution_count": 75,
   "id": "d586afda-9e33-46cf-960b-7fb6ed9523e5",
   "metadata": {},
   "outputs": [],
   "source": [
    "# for link, name in links:\n",
    "#     print(name)\n",
    "    \n",
    "#     r = requests.get(link)\n",
    "#     soup = BeautifulSoup(r.text, 'html.parser')\n",
    "\n",
    "#     tags = soup.find(\"div\", {\"id\":\"requirementstextcontainer\"}).find_all([\"h2\", \"span\", \"a\", \"td\", \"tr\", \"h3\", \"h4\"])\n",
    "\n",
    "#     # Filter by attributes\n",
    "#     found_tags = []\n",
    "#     for tag in tags:\n",
    "#         # print(tag.text) \n",
    "\n",
    "#         if tag.name == \"tr\" and tag.find(\"td\") and \"codecol\" in tag.find(\"td\").get(\"class\", []):\n",
    "#             found_tags.append(tag.find(\"td\").text)\n",
    "\n",
    "#         # if tag.name == \"td\" and tag.get(\"class\") and \"codecol\" in tag.get(\"class\"):\n",
    "#         #     found_tags.append(tag.text)\n",
    "\n",
    "#         # # print(tag.get(\"name\"))\n",
    "#         if tag.name == \"span\" and \"courselistcomment\" in tag.get(\"class\", []):\n",
    "#             if re.findall(r\"of the following|from the following|option|courses from|\\d course|advanced|additional|complete\", tag.text.lower()):\n",
    "#                 found_tags.append(tag.text)\n",
    "\n",
    "#         if tag.name == \"h4\" and (tag.text.lower().find(\"depth\") != -1 or tag.text.lower().find(\"breadth\") != -1):\n",
    "#             found_tags.append(tag.text)\n",
    "\n",
    "#         # if tag.name == \"h3\" and tag.get(\"class\") == [\"toggle\"]:\n",
    "#         #     found_tags.append(\"complete \"+tag.text)\n",
    "\n",
    "#         if tag.name.startswith(\"h4\") and tag.get(\"class\") == [\"toggle\"]:\n",
    "#             found_tags.append(\"complete \"+tag.text)\n",
    "\n",
    "#     # print(found_tags)\n",
    "\n",
    "#     # Clean up non-breaking spaces\n",
    "#     cleaned_courses = [course.encode('ascii', 'ignore').decode('ascii').strip() for course in found_tags]\n",
    "\n",
    "#     # Initialize variables for storing grouped data\n",
    "#     grouped_courses = []\n",
    "#     idx = -1\n",
    "#     current_key = None\n",
    "#     option_key = None\n",
    "\n",
    "#     # Loop through the list and organize it into groups\n",
    "#     for course in cleaned_courses:     \n",
    "#         if (course.lower().find(\"select\") != -1 or course.lower().find(\"complete\") != -1 or \\\n",
    "#         course.lower().find(\"depth\") != -1 or course.lower().find(\"breadth\") != -1 or \\\n",
    "#         course.lower().find(\"choose\") != -1 or course.lower().find(\"course\") != -1 or \\\n",
    "#         course.lower().find(\"advanced\") != -1 or course.lower().find(\"additional\") != -1 or \\\n",
    "#         course.lower().find(\"following\") != -1):\n",
    "#             # Create a new section for \"Select one of the following\"\n",
    "#             current_key = course\n",
    "#             grouped_courses.append({current_key : []})\n",
    "#             idx += 1\n",
    "#             option_key = None\n",
    "\n",
    "#         elif course.lower().find(\"option\") != -1:\n",
    "#             # Create a sub-option section\n",
    "#             option_key = course\n",
    "#             # grouped_courses[idx][current_key] = {}\n",
    "#             if isinstance(grouped_courses[idx][current_key], dict):\n",
    "#                 grouped_courses[idx][current_key][option_key] = []\n",
    "#             else:\n",
    "#                 grouped_courses[idx][current_key] = {option_key:[]}\n",
    "                \n",
    "#         elif current_key and not option_key and course.lower().startswith(\"or\"):\n",
    "#             grouped_courses[idx][current_key].append(course)\n",
    "\n",
    "#         elif current_key and not option_key:\n",
    "#             # Add courses to the current \"Select one of the following\" section\n",
    "#             grouped_courses[idx][current_key].append(course)\n",
    "\n",
    "#         elif option_key:\n",
    "#             # Add courses to the specific option section\n",
    "#             grouped_courses[idx][current_key][option_key].append(course)\n",
    "\n",
    "\n",
    "#         else:\n",
    "#             # If no section header, treat it as a required course\n",
    "#             if ['Required Courses'] not in [list(item.keys()) for item in grouped_courses if isinstance(item, dict)]:\n",
    "#                 grouped_courses.append({'Required Courses' : []})\n",
    "#                 idx += 1\n",
    "#                 current_key = 'Required Courses'\n",
    "#             # print([item.keys() for item in grouped_courses if isinstance(item, dict)])\n",
    "#             grouped_courses[idx]['Required Courses'].append(course)\n",
    "\n",
    "#     with open(\"majors/\"+name+\".json\", \"w\") as f:\n",
    "#         json.dump(grouped_courses, f)"
   ]
  },
  {
   "cell_type": "code",
   "execution_count": null,
   "id": "44676a00-40f6-4dd6-a6f9-a5a6daaf9670",
   "metadata": {},
   "outputs": [],
   "source": []
  }
 ],
 "metadata": {
  "kernelspec": {
   "display_name": "Python 3 (ipykernel)",
   "language": "python",
   "name": "python3"
  },
  "language_info": {
   "codemirror_mode": {
    "name": "ipython",
    "version": 3
   },
   "file_extension": ".py",
   "mimetype": "text/x-python",
   "name": "python",
   "nbconvert_exporter": "python",
   "pygments_lexer": "ipython3",
   "version": "3.10.12"
  }
 },
 "nbformat": 4,
 "nbformat_minor": 5
}
